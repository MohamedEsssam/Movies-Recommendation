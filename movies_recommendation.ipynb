{
 "cells": [
  {
   "cell_type": "code",
   "execution_count": 1,
   "metadata": {},
   "outputs": [],
   "source": [
    "'''\n",
    "\n",
    "used Imports\n",
    "\n",
    "'''\n",
    "import pandas as pd\n",
    "import numpy as np\n",
    "import nltk\n",
    "from sklearn.metrics.pairwise import cosine_similarity\n",
    "from sklearn.feature_extraction.text import CountVectorizer\n",
    "from sklearn.feature_extraction.text import TfidfVectorizer\n",
    "from nltk.corpus import stopwords \n",
    "from nltk.tokenize import word_tokenize \n",
    "from nltk.stem import WordNetLemmatizer\n",
    "from nltk.tokenize import sent_tokenize, word_tokenize\n",
    "from nltk.tag import pos_tag\n",
    "import random\n",
    "from termcolor import colored\n",
    "#nltk.download('punkt')\n",
    "#nltk.download('wordnet')\n",
    "#nltk.download('stopwords')\n",
    "#nltk.download('averaged_perceptron_tagger')"
   ]
  },
  {
   "cell_type": "code",
   "execution_count": 2,
   "metadata": {},
   "outputs": [],
   "source": [
    "'''\n",
    "Lemmatization function to return words to root value \n",
    "It take @param String and return each word in this\n",
    "string to root value the return new string \n",
    "\n",
    "'''\n",
    "def lemmatize_sentence(sentence):\n",
    "    wordnet_lemmatizer = WordNetLemmatizer()\n",
    "    token_words=word_tokenize(sentence)\n",
    "\n",
    "    lemm_sentence=[]\n",
    "    for word, tag in pos_tag(token_words):\n",
    "\n",
    "        if tag.startswith(\"NN\"):\n",
    "            lemm_sentence.append(wordnet_lemmatizer.lemmatize(word, pos='n'))\n",
    "            lemm_sentence.append(\" \")\n",
    "\n",
    "        elif tag.startswith(\"VB\"):\n",
    "            lemm_sentence.append(wordnet_lemmatizer.lemmatize(word, pos='v'))\n",
    "            lemm_sentence.append(\" \")\n",
    "      \n",
    "        elif tag.startswith(\"JJ\"):\n",
    "            lemm_sentence.append(wordnet_lemmatizer.lemmatize(word, pos='a'))\n",
    "            lemm_sentence.append(\" \")\n",
    "\n",
    "        else:\n",
    "            lemm_sentence.append(wordnet_lemmatizer.lemmatize(word))\n",
    "            lemm_sentence.append(\" \")\n",
    "      \n",
    "\n",
    "    return \"\".join(lemm_sentence)"
   ]
  },
  {
   "cell_type": "code",
   "execution_count": 3,
   "metadata": {},
   "outputs": [],
   "source": [
    "'''\n",
    "\n",
    "Function to remove stop words from string \n",
    "@param String and return string without\n",
    "stop words\n",
    "\n",
    "'''\n",
    "def clean_sentence(sentence):\n",
    "    stop_words = set(stopwords.words('english')) \n",
    "    stop_words.update((',', '.', '!', '?', '&', \"-\", \";\", \":\"))\n",
    "  \n",
    "    word_tokens = word_tokenize(sentence) \n",
    "  \n",
    "    filtered_sentence = [word for word in word_tokens if not word in stop_words] \n",
    "  \n",
    "    filtered_sentence = [] \n",
    "    for word in word_tokens: \n",
    "        if word not in stop_words: \n",
    "            filtered_sentence.append(word) \n",
    "            filtered_sentence.append(\" \")\n",
    "  \n",
    "    return \"\".join(filtered_sentence)"
   ]
  },
  {
   "cell_type": "code",
   "execution_count": 4,
   "metadata": {},
   "outputs": [],
   "source": [
    "'''\n",
    "\n",
    "Function to read csv_file\n",
    "\n",
    "'''\n",
    "def read_csv(csv_file, columns):\n",
    "    df = pd.read_csv(csv_file)\n",
    "    df = df[columns]\n",
    "\n",
    "    return df"
   ]
  },
  {
   "cell_type": "code",
   "execution_count": 5,
   "metadata": {},
   "outputs": [],
   "source": [
    "def organize_data(df):\n",
    "    \n",
    "  # discarding the commas between the actors' full names and getting only the first three names\n",
    "    df['Actors'] = df['Actors'].map(lambda x: x.split(',')[:3])\n",
    "\n",
    "  # putting the genres in a list of words\n",
    "    df['Genre'] = df['Genre'].map(lambda x: x.lower().split(','))\n",
    "\n",
    "  # putting the Director in a list \n",
    "    df['Director'] = df['Director'].map(lambda x: x.split(' '))\n",
    "\n",
    "  # merging together first and last name for each actor and director, so it's considered as one word \n",
    "  # and there is no mix up between people sharing a first name\n",
    "    for index, row in df.iterrows():\n",
    "        row['Actors'] = [x.lower().replace(' ','') for x in row['Actors']]\n",
    "        row['Director'] = ''.join(row['Director']).lower()\n",
    "      \n",
    "    return df"
   ]
  },
  {
   "cell_type": "code",
   "execution_count": 6,
   "metadata": {},
   "outputs": [],
   "source": [
    "'''\n",
    "\n",
    "Function take description and return it\n",
    "into list of word\n",
    "\n",
    "'''\n",
    "def description_to_list(description):\n",
    "    description_list = list(description.split())\n",
    "\n",
    "    return description_list"
   ]
  },
  {
   "cell_type": "code",
   "execution_count": 7,
   "metadata": {},
   "outputs": [],
   "source": [
    "def clean_key_words(df):\n",
    "    # initializing the new column\n",
    "    df['Key_words'] = \"\"\n",
    "    for index, row in df.iterrows():\n",
    "        plot = row['Plot']\n",
    "      \n",
    "        lemmatize_words = lemmatize_sentence(plot)\n",
    "  \n",
    "        words_without_stop_words = clean_sentence(lemmatize_words)\n",
    "  \n",
    "        # assigning the key words to the new column\n",
    "        row['Key_words'] = description_to_list(words_without_stop_words)\n",
    "\n",
    "    # dropping the Plot column\n",
    "    df.drop(columns = ['Plot'], inplace = True)\n",
    "\n",
    "    df.set_index('Title', inplace = True)\n",
    "\n",
    "    return df\n"
   ]
  },
  {
   "cell_type": "code",
   "execution_count": 8,
   "metadata": {},
   "outputs": [],
   "source": [
    "def create_bag_of_words(df):\n",
    "    df['bag_of_words'] = ''\n",
    "    columns = df.columns\n",
    "    for index, row in df.iterrows():\n",
    "        words = ''\n",
    "        for col in columns:\n",
    "            if col != 'Director':\n",
    "                words = words + ' '.join(row[col])+ ' '\n",
    "            else:\n",
    "                words = words + row[col]+ ' '\n",
    "        row['bag_of_words'] = words\n",
    "    \n",
    "    df.drop(columns = [col for col in df.columns if col!= 'bag_of_words'], inplace = True)\n",
    "  \n",
    "    return df"
   ]
  },
  {
   "cell_type": "code",
   "execution_count": 9,
   "metadata": {},
   "outputs": [],
   "source": [
    "def Tfidf_Vectorization(df):\n",
    "    vectorizer = TfidfVectorizer(stop_words='english')\n",
    "    tfidf_vectorizer_matrix = vectorizer.fit_transform(df['bag_of_words'])\n",
    "    \n",
    "    indices = pd.Series(df.index)\n",
    "      \n",
    "    return tfidf_vectorizer_matrix, indices"
   ]
  },
  {
   "cell_type": "code",
   "execution_count": 10,
   "metadata": {},
   "outputs": [],
   "source": [
    "def calc_cosine_similarity(tfidf_vectorizer_matrix):\n",
    "    cosine_similarity_matrix = cosine_similarity(tfidf_vectorizer_matrix, tfidf_vectorizer_matrix)\n",
    "  \n",
    "    return cosine_similarity_matrix\n"
   ]
  },
  {
   "cell_type": "code",
   "execution_count": 11,
   "metadata": {},
   "outputs": [],
   "source": [
    "'''\n",
    "\n",
    "function that takes  movies title  as input \n",
    "and returns the top 3 recommended movies\n",
    "\n",
    "'''\n",
    "def recommendations(movies, cosine_similarity_matrix, indices):\n",
    "    \n",
    "    recommended_movies = []\n",
    "    for movie_title in movies:\n",
    "        # gettin the index of the movie that matches the title\n",
    "        idx = indices[indices == movie_title].index[0]\n",
    "\n",
    "        # creating a Series with the similarity scores in descending order\n",
    "        score_series = pd.Series(cosine_similarity_matrix[idx]).sort_values(ascending = False)\n",
    "\n",
    "        # getting the indexes of the top 3 similar movies\n",
    "        top_3_indexes = list(score_series.iloc[1:4].index)\n",
    "    \n",
    "        # populating the list with the titles of the top 3 matching movies\n",
    "        for i in top_3_indexes:\n",
    "            recommended_movies.append(list(df.index)[i])\n",
    "        \n",
    "    return recommended_movies"
   ]
  },
  {
   "cell_type": "code",
   "execution_count": 12,
   "metadata": {},
   "outputs": [],
   "source": [
    "def randomized_output_data(output_data):\n",
    "    return random.sample(output_data, len(output_data))"
   ]
  },
  {
   "cell_type": "code",
   "execution_count": 13,
   "metadata": {},
   "outputs": [
    {
     "name": "stdout",
     "output_type": "stream",
     "text": [
      "#----------recommended movies----------------#\n",
      "\n",
      "\u001b[34mthe top\u001b[0m \u001b[34m9\u001b[0m \u001b[34mmovies\u001b[0m\n",
      "\u001b[34m0\u001b[0m \u001b[34mThe Lord of the Rings: The Fellowship of the Ring\u001b[0m\n",
      "\u001b[34m1\u001b[0m \u001b[34mGoodfellas\u001b[0m\n",
      "\u001b[34m2\u001b[0m \u001b[34mScarface\u001b[0m\n",
      "\u001b[34m3\u001b[0m \u001b[34mApocalypse Now\u001b[0m\n",
      "\u001b[34m4\u001b[0m \u001b[34mThe Godfather: Part II\u001b[0m\n",
      "\u001b[34m5\u001b[0m \u001b[34mToy Story\u001b[0m\n",
      "\u001b[34m6\u001b[0m \u001b[34mPulp Fiction\u001b[0m\n",
      "\u001b[34m7\u001b[0m \u001b[34mThe Kid\u001b[0m\n",
      "\u001b[34m8\u001b[0m \u001b[34mHachi: A Dog's Tale\u001b[0m\n"
     ]
    }
   ],
   "source": [
    "if __name__ =='__main__' :\n",
    "    df = read_csv('/home/mohamedessam/Movies-Recommendation/movies.csv', ['Title','Genre','Director','Actors','Plot'])\n",
    "    organize_data(df)\n",
    "    clean_key_words(df)\n",
    "    create_bag_of_words(df)\n",
    "    tfidf_vectorizer_matrix, indices = Tfidf_Vectorization(df)\n",
    "    cosine_similarity_matrix = calc_cosine_similarity(tfidf_vectorizer_matrix)\n",
    "    recommended_movies = recommendations([\"The Godfather\",\"Toy Story 3\",\"Raging Bull\"], cosine_similarity_matrix, indices)\n",
    "    randomized_recommended_movies = randomized_output_data(recommended_movies)\n",
    "    print('#----------recommended movies----------------#\\n')\n",
    "    print(colored(\"the top\",\"blue\"),colored(len(recommended_movies),\"blue\"),colored(\"movies\",\"blue\"))\n",
    "    for idx, movie in enumerate(randomized_recommended_movies):\n",
    "        print(colored(idx,\"blue\"), colored(movie,\"blue\"))"
   ]
  },
  {
   "cell_type": "code",
   "execution_count": null,
   "metadata": {},
   "outputs": [],
   "source": []
  }
 ],
 "metadata": {
  "kernelspec": {
   "display_name": "Python 3",
   "language": "python",
   "name": "python3"
  },
  "language_info": {
   "codemirror_mode": {
    "name": "ipython",
    "version": 3
   },
   "file_extension": ".py",
   "mimetype": "text/x-python",
   "name": "python",
   "nbconvert_exporter": "python",
   "pygments_lexer": "ipython3",
   "version": "3.7.4"
  }
 },
 "nbformat": 4,
 "nbformat_minor": 2
}
